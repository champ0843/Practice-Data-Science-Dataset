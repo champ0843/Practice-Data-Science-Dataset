{
 "cells": [
  {
   "cell_type": "code",
   "execution_count": 1,
   "metadata": {},
   "outputs": [],
   "source": [
    "import numpy as np\n",
    "import pandas as pd\n",
    "import matplotlib.pyplot as plt\n",
    "import seaborn"
   ]
  },
  {
   "cell_type": "code",
   "execution_count": 2,
   "metadata": {},
   "outputs": [],
   "source": [
    "dataset=pd.read_csv(\"P:\\\\DATA SCIENCE\\\\Udemy Courses\\\\OwnDataScience_Practice\\\\Begineer\\\\Height Weight\\\\dataset.csv\")"
   ]
  },
  {
   "cell_type": "code",
   "execution_count": 3,
   "metadata": {},
   "outputs": [
    {
     "data": {
      "text/plain": [
       "(25000, 3)"
      ]
     },
     "execution_count": 3,
     "metadata": {},
     "output_type": "execute_result"
    }
   ],
   "source": [
    "dataset.shape"
   ]
  },
  {
   "cell_type": "code",
   "execution_count": 4,
   "metadata": {},
   "outputs": [
    {
     "data": {
      "text/html": [
       "<div>\n",
       "<style scoped>\n",
       "    .dataframe tbody tr th:only-of-type {\n",
       "        vertical-align: middle;\n",
       "    }\n",
       "\n",
       "    .dataframe tbody tr th {\n",
       "        vertical-align: top;\n",
       "    }\n",
       "\n",
       "    .dataframe thead th {\n",
       "        text-align: right;\n",
       "    }\n",
       "</style>\n",
       "<table border=\"1\" class=\"dataframe\">\n",
       "  <thead>\n",
       "    <tr style=\"text-align: right;\">\n",
       "      <th></th>\n",
       "      <th>Index</th>\n",
       "      <th>Height(Inches)</th>\n",
       "      <th>Weight(Pounds)</th>\n",
       "    </tr>\n",
       "  </thead>\n",
       "  <tbody>\n",
       "    <tr>\n",
       "      <th>0</th>\n",
       "      <td>1</td>\n",
       "      <td>65.78331</td>\n",
       "      <td>112.9925</td>\n",
       "    </tr>\n",
       "    <tr>\n",
       "      <th>1</th>\n",
       "      <td>2</td>\n",
       "      <td>71.51521</td>\n",
       "      <td>136.4873</td>\n",
       "    </tr>\n",
       "    <tr>\n",
       "      <th>2</th>\n",
       "      <td>3</td>\n",
       "      <td>69.39874</td>\n",
       "      <td>153.0269</td>\n",
       "    </tr>\n",
       "    <tr>\n",
       "      <th>3</th>\n",
       "      <td>4</td>\n",
       "      <td>68.21660</td>\n",
       "      <td>142.3354</td>\n",
       "    </tr>\n",
       "    <tr>\n",
       "      <th>4</th>\n",
       "      <td>5</td>\n",
       "      <td>67.78781</td>\n",
       "      <td>144.2971</td>\n",
       "    </tr>\n",
       "  </tbody>\n",
       "</table>\n",
       "</div>"
      ],
      "text/plain": [
       "   Index  Height(Inches)  Weight(Pounds)\n",
       "0      1        65.78331        112.9925\n",
       "1      2        71.51521        136.4873\n",
       "2      3        69.39874        153.0269\n",
       "3      4        68.21660        142.3354\n",
       "4      5        67.78781        144.2971"
      ]
     },
     "execution_count": 4,
     "metadata": {},
     "output_type": "execute_result"
    }
   ],
   "source": [
    "dataset.head()"
   ]
  },
  {
   "cell_type": "code",
   "execution_count": 38,
   "metadata": {},
   "outputs": [
    {
     "data": {
      "text/plain": [
       "array([112.9925 , 136.4873 , 153.0269 , 142.3354 , 144.2971 , 123.3024 ,\n",
       "       141.4947 , 136.4623 , 112.3723 , 120.6672 , 127.4516 , 114.143  ,\n",
       "       125.6107 , 122.4618 , 116.0866 , 139.9975 , 129.5023 , 142.9733 ,\n",
       "       137.9025 , 124.0449 , 141.2807 , 143.5392 ,  97.90191, 129.5027 ,\n",
       "       141.8501 , 129.7244 , 142.4235 , 131.5502 , 108.3324 , 113.8922 ,\n",
       "       103.3016 , 120.7536 , 125.7886 , 136.2225 , 140.1015 , 128.7487 ,\n",
       "       141.7994 , 121.2319 , 131.3478 , 106.7115 , 124.3598 , 124.8591 ,\n",
       "       139.6711 , 137.3696 , 106.4499 , 128.7639 , 145.6837 , 116.819  ,\n",
       "       143.6215 , 134.9325 , 147.0219 , 126.3285 , 125.4839 , 115.7084 ,\n",
       "       123.4892 , 147.8926 , 155.8987 , 128.0742 , 119.3701 , 133.8148 ,\n",
       "       128.7325 , 137.5453 , 129.7604 , 128.824  , 135.3165 , 109.6113 ,\n",
       "       142.4684 , 132.749  , 103.5275 , 124.7299 , 129.3137 , 134.0175 ,\n",
       "       140.3969 , 102.8351 , 128.5214 , 120.2991 , 138.6036 , 132.9574 ,\n",
       "       115.6233 , 122.524  , 134.6254 , 121.8986 , 155.3767 , 128.9418 ,\n",
       "       129.1013 , 139.4733 , 140.8901 , 131.5916 , 121.1232 , 131.5127 ,\n",
       "       136.5479 , 141.4896 , 140.6104 , 112.1413 , 133.457  , 131.8001 ,\n",
       "       120.0285 , 123.0972 , 128.1432 , 115.4759 ])"
      ]
     },
     "execution_count": 38,
     "metadata": {},
     "output_type": "execute_result"
    },
    {
     "data": {
      "image/png": "[encoded data removed]",
      "text/plain": [
       "<matplotlib.figure.Figure at 0x138537dd710>"
      ]
     },
     "metadata": {},
     "output_type": "display_data"
    }
   ],
   "source": [
    "start=0\n",
    "end=start+100\n",
    "subset=dataset.iloc[start:end,:]\n",
    "plt.scatter(subset.iloc[:,1].values,subset.iloc[:,2].values)\n",
    "subset.iloc[:,2].values"
   ]
  },
  {
   "cell_type": "code",
   "execution_count": 39,
   "metadata": {},
   "outputs": [
    {
     "data": {
      "text/plain": [
       "<matplotlib.collections.PathCollection at 0x138538356d8>"
      ]
     },
     "execution_count": 39,
     "metadata": {},
     "output_type": "execute_result"
    },
    {
     "data": {
      "image/png": "[encoded data removed]",
      "text/plain": [
       "<matplotlib.figure.Figure at 0x138537e15c0>"
      ]
     },
     "metadata": {},
     "output_type": "display_data"
    }
   ],
   "source": [
    "start=0\n",
    "end=start+100\n",
    "subset=dataset.iloc[start:end,:]\n",
    "plt.scatter(subset['Height(Inches)'],subset['Weight(Pounds)'])"
   ]
  },
  {
   "cell_type": "code",
   "execution_count": 8,
   "metadata": {},
   "outputs": [],
   "source": [
    "dataset.corr()\n",
    "X=dataset.iloc[:,:-1].values\n",
    "Y=dataset.iloc[:,1].values"
   ]
  },
  {
   "cell_type": "code",
   "execution_count": 9,
   "metadata": {},
   "outputs": [
    {
     "name": "stdout",
     "output_type": "stream",
     "text": [
      "(25000, 2)\n",
      "(25000,)\n"
     ]
    },
    {
     "data": {
      "text/plain": [
       "array([[1.000000e+00, 6.578331e+01],\n",
       "       [2.000000e+00, 7.151521e+01],\n",
       "       [3.000000e+00, 6.939874e+01],\n",
       "       ...,\n",
       "       [2.499800e+04, 6.469855e+01],\n",
       "       [2.499900e+04, 6.752918e+01],\n",
       "       [2.500000e+04, 6.887761e+01]])"
      ]
     },
     "execution_count": 9,
     "metadata": {},
     "output_type": "execute_result"
    }
   ],
   "source": [
    "\n",
    "print(X.shape)\n",
    "\n",
    "print(Y.shape)\n",
    "X"
   ]
  },
  {
   "cell_type": "code",
   "execution_count": 11,
   "metadata": {},
   "outputs": [
    {
     "data": {
      "text/plain": [
       "array([[1.000000e+00, 6.578331e+01],\n",
       "       [2.000000e+00, 7.151521e+01],\n",
       "       [3.000000e+00, 6.939874e+01],\n",
       "       ...,\n",
       "       [2.499800e+04, 6.469855e+01],\n",
       "       [2.499900e+04, 6.752918e+01],\n",
       "       [2.500000e+04, 6.887761e+01]])"
      ]
     },
     "execution_count": 11,
     "metadata": {},
     "output_type": "execute_result"
    }
   ],
   "source": [
    "X"
   ]
  },
  {
   "cell_type": "code",
   "execution_count": 28,
   "metadata": {},
   "outputs": [],
   "source": [
    "from sklearn.model_selection import train_test_split\n",
    "X_train,X_test,y_train,y_test=train_test_split(X,Y,test_size=0.2,random_state=0)"
   ]
  },
  {
   "cell_type": "code",
   "execution_count": 13,
   "metadata": {},
   "outputs": [
    {
     "data": {
      "text/plain": [
       "LinearRegression(copy_X=True, fit_intercept=True, n_jobs=1, normalize=False)"
      ]
     },
     "execution_count": 13,
     "metadata": {},
     "output_type": "execute_result"
    }
   ],
   "source": [
    "from sklearn.linear_model import LinearRegression\n",
    "regressor=LinearRegression()\n",
    "regressor.fit(X_train,y_train)"
   ]
  },
  {
   "cell_type": "code",
   "execution_count": 14,
   "metadata": {},
   "outputs": [],
   "source": [
    "y_pred=regressor.predict(X_test)"
   ]
  },
  {
   "cell_type": "code",
   "execution_count": 15,
   "metadata": {},
   "outputs": [
    {
     "data": {
      "text/plain": [
       "9.948207318629217e-14"
      ]
     },
     "execution_count": 15,
     "metadata": {},
     "output_type": "execute_result"
    }
   ],
   "source": [
    "from sklearn.metrics import mean_squared_error\n",
    "from math import sqrt\n",
    "meanSquaredError=mean_squared_error(y_test, y_pred)\n",
    "sqrt(meanSquaredError)"
   ]
  },
  {
   "cell_type": "code",
   "execution_count": 16,
   "metadata": {},
   "outputs": [
    {
     "name": "stdout",
     "output_type": "stream",
     "text": [
      "[66.75233]\n",
      "66.7523300000001\n",
      "[9.9475983e-14] \n",
      "\n",
      "[70.23626]\n",
      "70.2362600000001\n",
      "[9.9475983e-14] \n",
      "\n",
      "[67.19022]\n",
      "67.1902200000001\n",
      "[9.9475983e-14] \n",
      "\n",
      "[67.09047]\n",
      "67.0904700000001\n",
      "[9.9475983e-14] \n",
      "\n",
      "[63.65356]\n",
      "63.6535600000001\n",
      "[9.9475983e-14] \n",
      "\n",
      "[64.64412]\n",
      "64.6441200000001\n",
      "[9.9475983e-14] \n",
      "\n",
      "[69.81014]\n",
      "69.8101400000001\n",
      "[9.9475983e-14] \n",
      "\n",
      "[69.78765]\n",
      "69.7876500000001\n",
      "[9.9475983e-14] \n",
      "\n",
      "[73.52131]\n",
      "73.5213100000001\n",
      "[9.9475983e-14] \n",
      "\n",
      "[71.74355]\n",
      "71.7435500000001\n",
      "[9.9475983e-14] \n",
      "\n"
     ]
    }
   ],
   "source": [
    "for i in range(0,10):\n",
    "    print(y_test[i:i+1])\n",
    "    print(y_pred[i])\n",
    "    print(y_pred[i]-y_test[i:i+1],\"\\n\")"
   ]
  },
  {
   "cell_type": "code",
   "execution_count": 33,
   "metadata": {},
   "outputs": [
    {
     "name": "stdout",
     "output_type": "stream",
     "text": [
      "[66.75233 70.23626 67.19022 ... 67.51801 69.06944 66.65813]\n",
      "(5000,)\n"
     ]
    }
   ],
   "source": [
    "print((X_test[:,1]))\n",
    "print((y_test.shape))"
   ]
  },
  {
   "cell_type": "code",
   "execution_count": 41,
   "metadata": {},
   "outputs": [
    {
     "data": {
      "image/png": "[encoded data removed]",
      "text/plain": [
       "<matplotlib.figure.Figure at 0x138537a7908>"
      ]
     },
     "metadata": {},
     "output_type": "display_data"
    }
   ],
   "source": [
    "plt.scatter(X_test[:,1],y_test,color=\"Green\")\n",
    "plt.scatter(X_test[:,1],y_pred,color=\"Blue\")\n",
    "plt.show()"
   ]
  }
 ],
 "metadata": {
  "kernelspec": {
   "display_name": "Python 3",
   "language": "python",
   "name": "python3"
  },
  "language_info": {
   "codemirror_mode": {
    "name": "ipython",
    "version": 3
   },
   "file_extension": ".py",
   "mimetype": "text/x-python",
   "name": "python",
   "nbconvert_exporter": "python",
   "pygments_lexer": "ipython3",
   "version": "3.6.4"
  }
 },
 "nbformat": 4,
 "nbformat_minor": 2
}
